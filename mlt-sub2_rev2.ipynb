{
 "cells": [
  {
   "cell_type": "markdown",
   "id": "37471a29",
   "metadata": {},
   "source": [
    "Reference: https://www.kaggle.com/code/yamanizm/recommendation-systems-svd-hybrid-k-nn-kmeans\n",
    "\n",
    "# Submission 2 MLT - Sistem Rekomendasi Anime\n",
    "https://www.dicoding.com/users/atthaariq\n",
    "\n",
    "## Load Dataset\n",
    "Download *dataset* dari *kaggle* dengan opendatasets."
   ]
  },
  {
   "cell_type": "code",
   "execution_count": 1,
   "id": "28fe683b",
   "metadata": {
    "scrolled": false
   },
   "outputs": [
    {
     "name": "stdout",
     "output_type": "stream",
     "text": [
      "Skipping, found downloaded files in \".\\anime-recommendations-database\" (use force=True to force download)\n",
      "Skipping, found downloaded files in \".\\anime-recommendations-database\" (use force=True to force download)\n"
     ]
    }
   ],
   "source": [
    "import opendatasets as od\n",
    "od.download('https://www.kaggle.com/datasets/CooperUnion/anime-recommendations-database?select=rating.csv')\n",
    "od.download('https://www.kaggle.com/datasets/CooperUnion/anime-recommendations-database?select=anime.csv')"
   ]
  },
  {
   "cell_type": "markdown",
   "id": "1e6adc09",
   "metadata": {},
   "source": [
    "**_Dataset_ yang digunakan adalah sebagai berikut:**\n",
    "- `anime` yang berisi informasi anime, dipakai untuk target rekomendasi\n",
    "- `rating` yang berisi informasi *rating* anime oleh pengguna, dipakai sebagai data yang dilatih."
   ]
  },
  {
   "cell_type": "code",
   "execution_count": 2,
   "id": "d62bbe6c",
   "metadata": {},
   "outputs": [],
   "source": [
    "import pandas as pd\n",
    "anime = pd.read_csv('anime-recommendations-database/anime.csv')\n",
    "rating = pd.read_csv('anime-recommendations-database/rating.csv')"
   ]
  },
  {
   "cell_type": "markdown",
   "id": "607d9893",
   "metadata": {},
   "source": [
    "Melihat 5 data teratas dari *dataset* anime dan rating."
   ]
  },
  {
   "cell_type": "code",
   "execution_count": 3,
   "id": "39d5fb10",
   "metadata": {
    "scrolled": false
   },
   "outputs": [
    {
     "data": {
      "text/html": [
       "<div>\n",
       "<style scoped>\n",
       "    .dataframe tbody tr th:only-of-type {\n",
       "        vertical-align: middle;\n",
       "    }\n",
       "\n",
       "    .dataframe tbody tr th {\n",
       "        vertical-align: top;\n",
       "    }\n",
       "\n",
       "    .dataframe thead th {\n",
       "        text-align: right;\n",
       "    }\n",
       "</style>\n",
       "<table border=\"1\" class=\"dataframe\">\n",
       "  <thead>\n",
       "    <tr style=\"text-align: right;\">\n",
       "      <th></th>\n",
       "      <th>anime_id</th>\n",
       "      <th>name</th>\n",
       "      <th>genre</th>\n",
       "      <th>type</th>\n",
       "      <th>episodes</th>\n",
       "      <th>rating</th>\n",
       "      <th>members</th>\n",
       "    </tr>\n",
       "  </thead>\n",
       "  <tbody>\n",
       "    <tr>\n",
       "      <th>0</th>\n",
       "      <td>32281</td>\n",
       "      <td>Kimi no Na wa.</td>\n",
       "      <td>Drama, Romance, School, Supernatural</td>\n",
       "      <td>Movie</td>\n",
       "      <td>1</td>\n",
       "      <td>9.37</td>\n",
       "      <td>200630</td>\n",
       "    </tr>\n",
       "    <tr>\n",
       "      <th>1</th>\n",
       "      <td>5114</td>\n",
       "      <td>Fullmetal Alchemist: Brotherhood</td>\n",
       "      <td>Action, Adventure, Drama, Fantasy, Magic, Mili...</td>\n",
       "      <td>TV</td>\n",
       "      <td>64</td>\n",
       "      <td>9.26</td>\n",
       "      <td>793665</td>\n",
       "    </tr>\n",
       "    <tr>\n",
       "      <th>2</th>\n",
       "      <td>28977</td>\n",
       "      <td>Gintama°</td>\n",
       "      <td>Action, Comedy, Historical, Parody, Samurai, S...</td>\n",
       "      <td>TV</td>\n",
       "      <td>51</td>\n",
       "      <td>9.25</td>\n",
       "      <td>114262</td>\n",
       "    </tr>\n",
       "    <tr>\n",
       "      <th>3</th>\n",
       "      <td>9253</td>\n",
       "      <td>Steins;Gate</td>\n",
       "      <td>Sci-Fi, Thriller</td>\n",
       "      <td>TV</td>\n",
       "      <td>24</td>\n",
       "      <td>9.17</td>\n",
       "      <td>673572</td>\n",
       "    </tr>\n",
       "    <tr>\n",
       "      <th>4</th>\n",
       "      <td>9969</td>\n",
       "      <td>Gintama&amp;#039;</td>\n",
       "      <td>Action, Comedy, Historical, Parody, Samurai, S...</td>\n",
       "      <td>TV</td>\n",
       "      <td>51</td>\n",
       "      <td>9.16</td>\n",
       "      <td>151266</td>\n",
       "    </tr>\n",
       "  </tbody>\n",
       "</table>\n",
       "</div>"
      ],
      "text/plain": [
       "   anime_id                              name  \\\n",
       "0     32281                    Kimi no Na wa.   \n",
       "1      5114  Fullmetal Alchemist: Brotherhood   \n",
       "2     28977                          Gintama°   \n",
       "3      9253                       Steins;Gate   \n",
       "4      9969                     Gintama&#039;   \n",
       "\n",
       "                                               genre   type episodes  rating  \\\n",
       "0               Drama, Romance, School, Supernatural  Movie        1    9.37   \n",
       "1  Action, Adventure, Drama, Fantasy, Magic, Mili...     TV       64    9.26   \n",
       "2  Action, Comedy, Historical, Parody, Samurai, S...     TV       51    9.25   \n",
       "3                                   Sci-Fi, Thriller     TV       24    9.17   \n",
       "4  Action, Comedy, Historical, Parody, Samurai, S...     TV       51    9.16   \n",
       "\n",
       "   members  \n",
       "0   200630  \n",
       "1   793665  \n",
       "2   114262  \n",
       "3   673572  \n",
       "4   151266  "
      ]
     },
     "execution_count": 3,
     "metadata": {},
     "output_type": "execute_result"
    }
   ],
   "source": [
    "anime.head()"
   ]
  },
  {
   "cell_type": "code",
   "execution_count": 17,
   "id": "bdda5e9d",
   "metadata": {},
   "outputs": [
    {
     "data": {
      "text/html": [
       "<div>\n",
       "<style scoped>\n",
       "    .dataframe tbody tr th:only-of-type {\n",
       "        vertical-align: middle;\n",
       "    }\n",
       "\n",
       "    .dataframe tbody tr th {\n",
       "        vertical-align: top;\n",
       "    }\n",
       "\n",
       "    .dataframe thead th {\n",
       "        text-align: right;\n",
       "    }\n",
       "</style>\n",
       "<table border=\"1\" class=\"dataframe\">\n",
       "  <thead>\n",
       "    <tr style=\"text-align: right;\">\n",
       "      <th></th>\n",
       "      <th>user_id</th>\n",
       "      <th>anime_id</th>\n",
       "      <th>rating</th>\n",
       "    </tr>\n",
       "  </thead>\n",
       "  <tbody>\n",
       "    <tr>\n",
       "      <th>0</th>\n",
       "      <td>1</td>\n",
       "      <td>20</td>\n",
       "      <td>-1</td>\n",
       "    </tr>\n",
       "    <tr>\n",
       "      <th>1</th>\n",
       "      <td>1</td>\n",
       "      <td>24</td>\n",
       "      <td>-1</td>\n",
       "    </tr>\n",
       "    <tr>\n",
       "      <th>2</th>\n",
       "      <td>1</td>\n",
       "      <td>79</td>\n",
       "      <td>-1</td>\n",
       "    </tr>\n",
       "    <tr>\n",
       "      <th>3</th>\n",
       "      <td>1</td>\n",
       "      <td>226</td>\n",
       "      <td>-1</td>\n",
       "    </tr>\n",
       "    <tr>\n",
       "      <th>4</th>\n",
       "      <td>1</td>\n",
       "      <td>241</td>\n",
       "      <td>-1</td>\n",
       "    </tr>\n",
       "  </tbody>\n",
       "</table>\n",
       "</div>"
      ],
      "text/plain": [
       "   user_id  anime_id  rating\n",
       "0        1        20      -1\n",
       "1        1        24      -1\n",
       "2        1        79      -1\n",
       "3        1       226      -1\n",
       "4        1       241      -1"
      ]
     },
     "execution_count": 17,
     "metadata": {},
     "output_type": "execute_result"
    }
   ],
   "source": [
    "rating.head()"
   ]
  },
  {
   "cell_type": "markdown",
   "id": "796ff03a",
   "metadata": {},
   "source": [
    "Kita dapat melihat 5 data teratas dari *dataset* anime & rating yang berarti *dataset* ini berhasil di-*load*."
   ]
  },
  {
   "cell_type": "code",
   "execution_count": 4,
   "id": "1604a2d2",
   "metadata": {
    "scrolled": true
   },
   "outputs": [
    {
     "data": {
      "text/html": [
       "<div>\n",
       "<style scoped>\n",
       "    .dataframe tbody tr th:only-of-type {\n",
       "        vertical-align: middle;\n",
       "    }\n",
       "\n",
       "    .dataframe tbody tr th {\n",
       "        vertical-align: top;\n",
       "    }\n",
       "\n",
       "    .dataframe thead th {\n",
       "        text-align: right;\n",
       "    }\n",
       "</style>\n",
       "<table border=\"1\" class=\"dataframe\">\n",
       "  <thead>\n",
       "    <tr style=\"text-align: right;\">\n",
       "      <th></th>\n",
       "      <th>anime_id</th>\n",
       "      <th>name</th>\n",
       "      <th>genre</th>\n",
       "      <th>type</th>\n",
       "      <th>episodes</th>\n",
       "      <th>rating</th>\n",
       "      <th>members</th>\n",
       "    </tr>\n",
       "  </thead>\n",
       "  <tbody>\n",
       "    <tr>\n",
       "      <th>1834</th>\n",
       "      <td>527</td>\n",
       "      <td>Pokemon</td>\n",
       "      <td>Action, Adventure, Comedy, Fantasy, Kids</td>\n",
       "      <td>TV</td>\n",
       "      <td>276</td>\n",
       "      <td>7.43</td>\n",
       "      <td>229157</td>\n",
       "    </tr>\n",
       "  </tbody>\n",
       "</table>\n",
       "</div>"
      ],
      "text/plain": [
       "      anime_id     name                                     genre type  \\\n",
       "1834       527  Pokemon  Action, Adventure, Comedy, Fantasy, Kids   TV   \n",
       "\n",
       "     episodes  rating  members  \n",
       "1834      276    7.43   229157  "
      ]
     },
     "execution_count": 4,
     "metadata": {},
     "output_type": "execute_result"
    }
   ],
   "source": [
    "anime[anime.name=='Pokemon']"
   ]
  },
  {
   "cell_type": "code",
   "execution_count": 5,
   "id": "35a456bd",
   "metadata": {
    "scrolled": true
   },
   "outputs": [
    {
     "data": {
      "text/html": [
       "<div>\n",
       "<style scoped>\n",
       "    .dataframe tbody tr th:only-of-type {\n",
       "        vertical-align: middle;\n",
       "    }\n",
       "\n",
       "    .dataframe tbody tr th {\n",
       "        vertical-align: top;\n",
       "    }\n",
       "\n",
       "    .dataframe thead th {\n",
       "        text-align: right;\n",
       "    }\n",
       "</style>\n",
       "<table border=\"1\" class=\"dataframe\">\n",
       "  <thead>\n",
       "    <tr style=\"text-align: right;\">\n",
       "      <th></th>\n",
       "      <th>user_id</th>\n",
       "      <th>anime_id</th>\n",
       "      <th>rating</th>\n",
       "    </tr>\n",
       "  </thead>\n",
       "  <tbody>\n",
       "    <tr>\n",
       "      <th>2486</th>\n",
       "      <td>23</td>\n",
       "      <td>400</td>\n",
       "      <td>10</td>\n",
       "    </tr>\n",
       "    <tr>\n",
       "      <th>8855</th>\n",
       "      <td>109</td>\n",
       "      <td>400</td>\n",
       "      <td>7</td>\n",
       "    </tr>\n",
       "    <tr>\n",
       "      <th>17385</th>\n",
       "      <td>226</td>\n",
       "      <td>400</td>\n",
       "      <td>7</td>\n",
       "    </tr>\n",
       "    <tr>\n",
       "      <th>19932</th>\n",
       "      <td>247</td>\n",
       "      <td>400</td>\n",
       "      <td>8</td>\n",
       "    </tr>\n",
       "    <tr>\n",
       "      <th>22139</th>\n",
       "      <td>270</td>\n",
       "      <td>400</td>\n",
       "      <td>-1</td>\n",
       "    </tr>\n",
       "    <tr>\n",
       "      <th>...</th>\n",
       "      <td>...</td>\n",
       "      <td>...</td>\n",
       "      <td>...</td>\n",
       "    </tr>\n",
       "    <tr>\n",
       "      <th>7804019</th>\n",
       "      <td>73408</td>\n",
       "      <td>400</td>\n",
       "      <td>9</td>\n",
       "    </tr>\n",
       "    <tr>\n",
       "      <th>7807317</th>\n",
       "      <td>73443</td>\n",
       "      <td>400</td>\n",
       "      <td>10</td>\n",
       "    </tr>\n",
       "    <tr>\n",
       "      <th>7808044</th>\n",
       "      <td>73457</td>\n",
       "      <td>400</td>\n",
       "      <td>9</td>\n",
       "    </tr>\n",
       "    <tr>\n",
       "      <th>7810685</th>\n",
       "      <td>73491</td>\n",
       "      <td>400</td>\n",
       "      <td>-1</td>\n",
       "    </tr>\n",
       "    <tr>\n",
       "      <th>7811215</th>\n",
       "      <td>73495</td>\n",
       "      <td>400</td>\n",
       "      <td>-1</td>\n",
       "    </tr>\n",
       "  </tbody>\n",
       "</table>\n",
       "<p>3153 rows × 3 columns</p>\n",
       "</div>"
      ],
      "text/plain": [
       "         user_id  anime_id  rating\n",
       "2486          23       400      10\n",
       "8855         109       400       7\n",
       "17385        226       400       7\n",
       "19932        247       400       8\n",
       "22139        270       400      -1\n",
       "...          ...       ...     ...\n",
       "7804019    73408       400       9\n",
       "7807317    73443       400      10\n",
       "7808044    73457       400       9\n",
       "7810685    73491       400      -1\n",
       "7811215    73495       400      -1\n",
       "\n",
       "[3153 rows x 3 columns]"
      ]
     },
     "execution_count": 5,
     "metadata": {},
     "output_type": "execute_result"
    }
   ],
   "source": [
    "rating[rating.anime_id==400]"
   ]
  },
  {
   "cell_type": "markdown",
   "id": "db63a378",
   "metadata": {},
   "source": [
    "## Data Understanding & Analysis\n",
    "\n",
    "Pertama, melihat berapa banyak kolom dan baris (variabel & data)."
   ]
  },
  {
   "cell_type": "code",
   "execution_count": 6,
   "id": "b9424703",
   "metadata": {},
   "outputs": [
    {
     "name": "stdout",
     "output_type": "stream",
     "text": [
      "<class 'pandas.core.frame.DataFrame'>\n",
      "RangeIndex: 12294 entries, 0 to 12293\n",
      "Data columns (total 7 columns):\n",
      " #   Column    Non-Null Count  Dtype  \n",
      "---  ------    --------------  -----  \n",
      " 0   anime_id  12294 non-null  int64  \n",
      " 1   name      12294 non-null  object \n",
      " 2   genre     12232 non-null  object \n",
      " 3   type      12269 non-null  object \n",
      " 4   episodes  12294 non-null  object \n",
      " 5   rating    12064 non-null  float64\n",
      " 6   members   12294 non-null  int64  \n",
      "dtypes: float64(1), int64(2), object(4)\n",
      "memory usage: 672.5+ KB\n"
     ]
    }
   ],
   "source": [
    "anime.info()"
   ]
  },
  {
   "cell_type": "code",
   "execution_count": 7,
   "id": "ae2f8208",
   "metadata": {},
   "outputs": [
    {
     "name": "stdout",
     "output_type": "stream",
     "text": [
      "<class 'pandas.core.frame.DataFrame'>\n",
      "RangeIndex: 7813737 entries, 0 to 7813736\n",
      "Data columns (total 3 columns):\n",
      " #   Column    Dtype\n",
      "---  ------    -----\n",
      " 0   user_id   int64\n",
      " 1   anime_id  int64\n",
      " 2   rating    int64\n",
      "dtypes: int64(3)\n",
      "memory usage: 178.8 MB\n"
     ]
    }
   ],
   "source": [
    "rating.info()"
   ]
  },
  {
   "cell_type": "code",
   "execution_count": 7,
   "id": "c79ecba9",
   "metadata": {
    "scrolled": true
   },
   "outputs": [
    {
     "name": "stdout",
     "output_type": "stream",
     "text": [
      "anime shape: (12294, 7)\n",
      "rating shape: (7813737, 3)\n"
     ]
    }
   ],
   "source": [
    "print(f'anime shape: {anime.shape}\\nrating shape: {rating.shape}')"
   ]
  },
  {
   "cell_type": "markdown",
   "id": "6c1ae29d",
   "metadata": {},
   "source": [
    "- `anime` memiliki 7 kolom data dan 12,294 baris.\n",
    "- `rating` memiliki 3 kolom data dan 7,813,737 baris."
   ]
  },
  {
   "cell_type": "code",
   "execution_count": 8,
   "id": "2531357c",
   "metadata": {
    "scrolled": true
   },
   "outputs": [
    {
     "data": {
      "text/html": [
       "<div>\n",
       "<style scoped>\n",
       "    .dataframe tbody tr th:only-of-type {\n",
       "        vertical-align: middle;\n",
       "    }\n",
       "\n",
       "    .dataframe tbody tr th {\n",
       "        vertical-align: top;\n",
       "    }\n",
       "\n",
       "    .dataframe thead th {\n",
       "        text-align: right;\n",
       "    }\n",
       "</style>\n",
       "<table border=\"1\" class=\"dataframe\">\n",
       "  <thead>\n",
       "    <tr style=\"text-align: right;\">\n",
       "      <th></th>\n",
       "      <th>anime_id</th>\n",
       "      <th>rating</th>\n",
       "      <th>members</th>\n",
       "    </tr>\n",
       "  </thead>\n",
       "  <tbody>\n",
       "    <tr>\n",
       "      <th>count</th>\n",
       "      <td>12294.000000</td>\n",
       "      <td>12064.000000</td>\n",
       "      <td>1.229400e+04</td>\n",
       "    </tr>\n",
       "    <tr>\n",
       "      <th>mean</th>\n",
       "      <td>14058.221653</td>\n",
       "      <td>6.473902</td>\n",
       "      <td>1.807134e+04</td>\n",
       "    </tr>\n",
       "    <tr>\n",
       "      <th>std</th>\n",
       "      <td>11455.294701</td>\n",
       "      <td>1.026746</td>\n",
       "      <td>5.482068e+04</td>\n",
       "    </tr>\n",
       "    <tr>\n",
       "      <th>min</th>\n",
       "      <td>1.000000</td>\n",
       "      <td>1.670000</td>\n",
       "      <td>5.000000e+00</td>\n",
       "    </tr>\n",
       "    <tr>\n",
       "      <th>25%</th>\n",
       "      <td>3484.250000</td>\n",
       "      <td>5.880000</td>\n",
       "      <td>2.250000e+02</td>\n",
       "    </tr>\n",
       "    <tr>\n",
       "      <th>50%</th>\n",
       "      <td>10260.500000</td>\n",
       "      <td>6.570000</td>\n",
       "      <td>1.550000e+03</td>\n",
       "    </tr>\n",
       "    <tr>\n",
       "      <th>75%</th>\n",
       "      <td>24794.500000</td>\n",
       "      <td>7.180000</td>\n",
       "      <td>9.437000e+03</td>\n",
       "    </tr>\n",
       "    <tr>\n",
       "      <th>max</th>\n",
       "      <td>34527.000000</td>\n",
       "      <td>10.000000</td>\n",
       "      <td>1.013917e+06</td>\n",
       "    </tr>\n",
       "  </tbody>\n",
       "</table>\n",
       "</div>"
      ],
      "text/plain": [
       "           anime_id        rating       members\n",
       "count  12294.000000  12064.000000  1.229400e+04\n",
       "mean   14058.221653      6.473902  1.807134e+04\n",
       "std    11455.294701      1.026746  5.482068e+04\n",
       "min        1.000000      1.670000  5.000000e+00\n",
       "25%     3484.250000      5.880000  2.250000e+02\n",
       "50%    10260.500000      6.570000  1.550000e+03\n",
       "75%    24794.500000      7.180000  9.437000e+03\n",
       "max    34527.000000     10.000000  1.013917e+06"
      ]
     },
     "execution_count": 8,
     "metadata": {},
     "output_type": "execute_result"
    }
   ],
   "source": [
    "anime.describe()"
   ]
  },
  {
   "cell_type": "markdown",
   "id": "9d70a849",
   "metadata": {},
   "source": [
    "Terdapat 3 kolom numerik pada *dataset* `anime`, yaitu 2 kolom numerik diskrit yaitu `anime_id` & `members`, serta kolom numerik kontinyu yaitu `rating`."
   ]
  },
  {
   "cell_type": "code",
   "execution_count": 9,
   "id": "f8eeffb9",
   "metadata": {},
   "outputs": [
    {
     "data": {
      "text/html": [
       "<div>\n",
       "<style scoped>\n",
       "    .dataframe tbody tr th:only-of-type {\n",
       "        vertical-align: middle;\n",
       "    }\n",
       "\n",
       "    .dataframe tbody tr th {\n",
       "        vertical-align: top;\n",
       "    }\n",
       "\n",
       "    .dataframe thead th {\n",
       "        text-align: right;\n",
       "    }\n",
       "</style>\n",
       "<table border=\"1\" class=\"dataframe\">\n",
       "  <thead>\n",
       "    <tr style=\"text-align: right;\">\n",
       "      <th></th>\n",
       "      <th>user_id</th>\n",
       "      <th>anime_id</th>\n",
       "      <th>rating</th>\n",
       "    </tr>\n",
       "  </thead>\n",
       "  <tbody>\n",
       "    <tr>\n",
       "      <th>count</th>\n",
       "      <td>7.813737e+06</td>\n",
       "      <td>7.813737e+06</td>\n",
       "      <td>7.813737e+06</td>\n",
       "    </tr>\n",
       "    <tr>\n",
       "      <th>mean</th>\n",
       "      <td>3.672796e+04</td>\n",
       "      <td>8.909072e+03</td>\n",
       "      <td>6.144030e+00</td>\n",
       "    </tr>\n",
       "    <tr>\n",
       "      <th>std</th>\n",
       "      <td>2.099795e+04</td>\n",
       "      <td>8.883950e+03</td>\n",
       "      <td>3.727800e+00</td>\n",
       "    </tr>\n",
       "    <tr>\n",
       "      <th>min</th>\n",
       "      <td>1.000000e+00</td>\n",
       "      <td>1.000000e+00</td>\n",
       "      <td>-1.000000e+00</td>\n",
       "    </tr>\n",
       "    <tr>\n",
       "      <th>25%</th>\n",
       "      <td>1.897400e+04</td>\n",
       "      <td>1.240000e+03</td>\n",
       "      <td>6.000000e+00</td>\n",
       "    </tr>\n",
       "    <tr>\n",
       "      <th>50%</th>\n",
       "      <td>3.679100e+04</td>\n",
       "      <td>6.213000e+03</td>\n",
       "      <td>7.000000e+00</td>\n",
       "    </tr>\n",
       "    <tr>\n",
       "      <th>75%</th>\n",
       "      <td>5.475700e+04</td>\n",
       "      <td>1.409300e+04</td>\n",
       "      <td>9.000000e+00</td>\n",
       "    </tr>\n",
       "    <tr>\n",
       "      <th>max</th>\n",
       "      <td>7.351600e+04</td>\n",
       "      <td>3.451900e+04</td>\n",
       "      <td>1.000000e+01</td>\n",
       "    </tr>\n",
       "  </tbody>\n",
       "</table>\n",
       "</div>"
      ],
      "text/plain": [
       "            user_id      anime_id        rating\n",
       "count  7.813737e+06  7.813737e+06  7.813737e+06\n",
       "mean   3.672796e+04  8.909072e+03  6.144030e+00\n",
       "std    2.099795e+04  8.883950e+03  3.727800e+00\n",
       "min    1.000000e+00  1.000000e+00 -1.000000e+00\n",
       "25%    1.897400e+04  1.240000e+03  6.000000e+00\n",
       "50%    3.679100e+04  6.213000e+03  7.000000e+00\n",
       "75%    5.475700e+04  1.409300e+04  9.000000e+00\n",
       "max    7.351600e+04  3.451900e+04  1.000000e+01"
      ]
     },
     "execution_count": 9,
     "metadata": {},
     "output_type": "execute_result"
    }
   ],
   "source": [
    "rating.describe()"
   ]
  },
  {
   "cell_type": "markdown",
   "id": "3b0b6284",
   "metadata": {},
   "source": [
    "Semua kolom *dataset* `rating` adalah data numerik diskrit."
   ]
  },
  {
   "cell_type": "markdown",
   "id": "f31e6400",
   "metadata": {},
   "source": [
    "Kemudian cek apakah ada *missing values* / null pada kedua *dataset*."
   ]
  },
  {
   "cell_type": "code",
   "execution_count": 10,
   "id": "bee977c8",
   "metadata": {
    "scrolled": true
   },
   "outputs": [
    {
     "data": {
      "text/plain": [
       "user_id     0\n",
       "anime_id    0\n",
       "rating      0\n",
       "dtype: int64"
      ]
     },
     "execution_count": 10,
     "metadata": {},
     "output_type": "execute_result"
    }
   ],
   "source": [
    "rating.isna().sum()"
   ]
  },
  {
   "cell_type": "code",
   "execution_count": 11,
   "id": "e872ee0a",
   "metadata": {
    "scrolled": true
   },
   "outputs": [
    {
     "data": {
      "text/plain": [
       "anime_id      0\n",
       "name          0\n",
       "genre        62\n",
       "type         25\n",
       "episodes      0\n",
       "rating      230\n",
       "members       0\n",
       "dtype: int64"
      ]
     },
     "execution_count": 11,
     "metadata": {},
     "output_type": "execute_result"
    }
   ],
   "source": [
    "anime.isna().sum()"
   ]
  },
  {
   "cell_type": "markdown",
   "id": "d9f09ec0",
   "metadata": {},
   "source": [
    "*Dataset* anime memiliki nilai null pada 3 kolom, dengan null terbanyak pada kolom `rating` (230 data).\n",
    "\n",
    "Semua baris data yang memiliki nilai null pada kolom datanya akan di-*drop*."
   ]
  },
  {
   "cell_type": "code",
   "execution_count": 12,
   "id": "5fda78fd",
   "metadata": {
    "scrolled": false
   },
   "outputs": [
    {
     "data": {
      "text/plain": [
       "anime_id    0\n",
       "name        0\n",
       "genre       0\n",
       "type        0\n",
       "episodes    0\n",
       "rating      0\n",
       "members     0\n",
       "dtype: int64"
      ]
     },
     "execution_count": 12,
     "metadata": {},
     "output_type": "execute_result"
    }
   ],
   "source": [
    "anime.dropna(axis = 0, inplace = True)\n",
    "anime.isna().sum()"
   ]
  },
  {
   "cell_type": "code",
   "execution_count": 13,
   "id": "1a14e2d9",
   "metadata": {
    "scrolled": false
   },
   "outputs": [
    {
     "name": "stdout",
     "output_type": "stream",
     "text": [
      "<class 'pandas.core.frame.DataFrame'>\n",
      "Int64Index: 12017 entries, 0 to 12293\n",
      "Data columns (total 7 columns):\n",
      " #   Column    Non-Null Count  Dtype  \n",
      "---  ------    --------------  -----  \n",
      " 0   anime_id  12017 non-null  int64  \n",
      " 1   name      12017 non-null  object \n",
      " 2   genre     12017 non-null  object \n",
      " 3   type      12017 non-null  object \n",
      " 4   episodes  12017 non-null  object \n",
      " 5   rating    12017 non-null  float64\n",
      " 6   members   12017 non-null  int64  \n",
      "dtypes: float64(1), int64(2), object(4)\n",
      "memory usage: 751.1+ KB\n"
     ]
    }
   ],
   "source": [
    "anime.info()"
   ]
  },
  {
   "cell_type": "markdown",
   "id": "424a1976",
   "metadata": {},
   "source": [
    "Tidak ada lagi null pada *dataset* `anime`. Jumlah baris data menjadi 12017."
   ]
  },
  {
   "cell_type": "code",
   "execution_count": 14,
   "id": "9c722f0a",
   "metadata": {},
   "outputs": [
    {
     "data": {
      "text/html": [
       "<div>\n",
       "<style scoped>\n",
       "    .dataframe tbody tr th:only-of-type {\n",
       "        vertical-align: middle;\n",
       "    }\n",
       "\n",
       "    .dataframe tbody tr th {\n",
       "        vertical-align: top;\n",
       "    }\n",
       "\n",
       "    .dataframe thead th {\n",
       "        text-align: right;\n",
       "    }\n",
       "</style>\n",
       "<table border=\"1\" class=\"dataframe\">\n",
       "  <thead>\n",
       "    <tr style=\"text-align: right;\">\n",
       "      <th></th>\n",
       "      <th>anime_id</th>\n",
       "      <th>rating</th>\n",
       "      <th>members</th>\n",
       "    </tr>\n",
       "  </thead>\n",
       "  <tbody>\n",
       "    <tr>\n",
       "      <th>count</th>\n",
       "      <td>12017.000000</td>\n",
       "      <td>12017.000000</td>\n",
       "      <td>1.201700e+04</td>\n",
       "    </tr>\n",
       "    <tr>\n",
       "      <th>mean</th>\n",
       "      <td>13638.001165</td>\n",
       "      <td>6.478264</td>\n",
       "      <td>1.834888e+04</td>\n",
       "    </tr>\n",
       "    <tr>\n",
       "      <th>std</th>\n",
       "      <td>11231.076675</td>\n",
       "      <td>1.023857</td>\n",
       "      <td>5.537250e+04</td>\n",
       "    </tr>\n",
       "    <tr>\n",
       "      <th>min</th>\n",
       "      <td>1.000000</td>\n",
       "      <td>1.670000</td>\n",
       "      <td>1.200000e+01</td>\n",
       "    </tr>\n",
       "    <tr>\n",
       "      <th>25%</th>\n",
       "      <td>3391.000000</td>\n",
       "      <td>5.890000</td>\n",
       "      <td>2.250000e+02</td>\n",
       "    </tr>\n",
       "    <tr>\n",
       "      <th>50%</th>\n",
       "      <td>9959.000000</td>\n",
       "      <td>6.570000</td>\n",
       "      <td>1.552000e+03</td>\n",
       "    </tr>\n",
       "    <tr>\n",
       "      <th>75%</th>\n",
       "      <td>23729.000000</td>\n",
       "      <td>7.180000</td>\n",
       "      <td>9.588000e+03</td>\n",
       "    </tr>\n",
       "    <tr>\n",
       "      <th>max</th>\n",
       "      <td>34519.000000</td>\n",
       "      <td>10.000000</td>\n",
       "      <td>1.013917e+06</td>\n",
       "    </tr>\n",
       "  </tbody>\n",
       "</table>\n",
       "</div>"
      ],
      "text/plain": [
       "           anime_id        rating       members\n",
       "count  12017.000000  12017.000000  1.201700e+04\n",
       "mean   13638.001165      6.478264  1.834888e+04\n",
       "std    11231.076675      1.023857  5.537250e+04\n",
       "min        1.000000      1.670000  1.200000e+01\n",
       "25%     3391.000000      5.890000  2.250000e+02\n",
       "50%     9959.000000      6.570000  1.552000e+03\n",
       "75%    23729.000000      7.180000  9.588000e+03\n",
       "max    34519.000000     10.000000  1.013917e+06"
      ]
     },
     "execution_count": 14,
     "metadata": {},
     "output_type": "execute_result"
    }
   ],
   "source": [
    "anime.describe()"
   ]
  },
  {
   "cell_type": "markdown",
   "id": "262f4a16",
   "metadata": {},
   "source": [
    "Melihat keragaman data pada *dataset* `anime` & `rating`."
   ]
  },
  {
   "cell_type": "code",
   "execution_count": 15,
   "id": "e63277b5",
   "metadata": {
    "scrolled": false
   },
   "outputs": [
    {
     "data": {
      "text/plain": [
       "anime_id    12017\n",
       "name        12015\n",
       "genre        3229\n",
       "type            6\n",
       "episodes      187\n",
       "rating        598\n",
       "members      6596\n",
       "dtype: int64"
      ]
     },
     "execution_count": 15,
     "metadata": {},
     "output_type": "execute_result"
    }
   ],
   "source": [
    "anime.nunique()"
   ]
  },
  {
   "cell_type": "code",
   "execution_count": 16,
   "id": "495bafe1",
   "metadata": {
    "scrolled": false
   },
   "outputs": [
    {
     "data": {
      "text/plain": [
       "user_id     73515\n",
       "anime_id    11200\n",
       "rating         11\n",
       "dtype: int64"
      ]
     },
     "execution_count": 16,
     "metadata": {},
     "output_type": "execute_result"
    }
   ],
   "source": [
    "rating.nunique()"
   ]
  },
  {
   "cell_type": "markdown",
   "id": "da7441bf",
   "metadata": {},
   "source": [
    "Impor *library* untuk keperluan visualisasi data."
   ]
  },
  {
   "cell_type": "code",
   "execution_count": 17,
   "id": "26d6d30a",
   "metadata": {},
   "outputs": [],
   "source": [
    "import numpy as np\n",
    "import matplotlib.pyplot as plt\n",
    "import seaborn as sns"
   ]
  },
  {
   "cell_type": "markdown",
   "id": "774b35c7",
   "metadata": {},
   "source": [
    "Melihat korelasi antar kolom kedua *dataset* dengan *heatmap*."
   ]
  },
  {
   "cell_type": "code",
   "execution_count": 18,
   "id": "5b3bff70",
   "metadata": {
    "scrolled": true
   },
   "outputs": [
    {
     "data": {
      "text/plain": [
       "<AxesSubplot:title={'center':'Heatmap korelasi dataset anime'}>"
      ]
     },
     "execution_count": 18,
     "metadata": {},
     "output_type": "execute_result"
    },
    {
     "data": {
      "image/png": "[encoded data removed]",
      "text/plain": [
       "<Figure size 504x360 with 2 Axes>"
      ]
     },
     "metadata": {
      "needs_background": "light"
     },
     "output_type": "display_data"
    },
    {
     "data": {
      "image/png": "[encoded data removed]",
      "text/plain": [
       "<Figure size 504x360 with 2 Axes>"
      ]
     },
     "metadata": {
      "needs_background": "light"
     },
     "output_type": "display_data"
    }
   ],
   "source": [
    "plt.figure(figsize=(7,5))\n",
    "plt.title(\"Heatmap korelasi dataset anime\")\n",
    "sns.heatmap(anime.corr(),annot = True,cmap = 'mako_r')\n",
    "plt.figure(figsize=(7,5))\n",
    "plt.title(\"Heatmap korelasi dataset anime\")\n",
    "sns.heatmap(rating.corr(),annot = True,cmap = 'mako_r')"
   ]
  },
  {
   "cell_type": "markdown",
   "id": "2968899a",
   "metadata": {},
   "source": [
    "Mengecek duplikasi kolom pada kedua tabel."
   ]
  },
  {
   "cell_type": "code",
   "execution_count": 19,
   "id": "6083d399",
   "metadata": {},
   "outputs": [
    {
     "name": "stdout",
     "output_type": "stream",
     "text": [
      "(0, 7)\n",
      "(1, 3)\n"
     ]
    }
   ],
   "source": [
    "print(anime[anime.duplicated()].shape)\n",
    "print(rating[rating.duplicated()].shape)"
   ]
  },
  {
   "cell_type": "markdown",
   "id": "2fd94e4c",
   "metadata": {},
   "source": [
    "Terdapat duplikasi pada `rating`, kita hapus dengan `drop_duplicated`."
   ]
  },
  {
   "cell_type": "code",
   "execution_count": 20,
   "id": "b427e581",
   "metadata": {},
   "outputs": [
    {
     "data": {
      "text/plain": [
       "(0, 3)"
      ]
     },
     "execution_count": 20,
     "metadata": {},
     "output_type": "execute_result"
    }
   ],
   "source": [
    "rating.drop_duplicates(keep='first',inplace=True)\n",
    "rating[rating.duplicated()].shape"
   ]
  },
  {
   "cell_type": "markdown",
   "id": "41d80475",
   "metadata": {},
   "source": [
    "## Create Dataset for Recommender System\n",
    "\n",
    "*Dataset* untuk *training* didapatkan dari menggabungkan *dataset* `anime` dan `rating`."
   ]
  },
  {
   "cell_type": "code",
   "execution_count": 22,
   "id": "15344cc7",
   "metadata": {},
   "outputs": [
    {
     "data": {
      "text/html": [
       "<div>\n",
       "<style scoped>\n",
       "    .dataframe tbody tr th:only-of-type {\n",
       "        vertical-align: middle;\n",
       "    }\n",
       "\n",
       "    .dataframe tbody tr th {\n",
       "        vertical-align: top;\n",
       "    }\n",
       "\n",
       "    .dataframe thead th {\n",
       "        text-align: right;\n",
       "    }\n",
       "</style>\n",
       "<table border=\"1\" class=\"dataframe\">\n",
       "  <thead>\n",
       "    <tr style=\"text-align: right;\">\n",
       "      <th></th>\n",
       "      <th>anime_id</th>\n",
       "      <th>name</th>\n",
       "      <th>genre</th>\n",
       "      <th>type</th>\n",
       "      <th>episodes</th>\n",
       "      <th>rating_x</th>\n",
       "      <th>members</th>\n",
       "      <th>user_id</th>\n",
       "      <th>rating_y</th>\n",
       "    </tr>\n",
       "  </thead>\n",
       "  <tbody>\n",
       "    <tr>\n",
       "      <th>0</th>\n",
       "      <td>32281</td>\n",
       "      <td>Kimi no Na wa.</td>\n",
       "      <td>Drama, Romance, School, Supernatural</td>\n",
       "      <td>Movie</td>\n",
       "      <td>1</td>\n",
       "      <td>9.37</td>\n",
       "      <td>200630</td>\n",
       "      <td>99</td>\n",
       "      <td>5</td>\n",
       "    </tr>\n",
       "    <tr>\n",
       "      <th>1</th>\n",
       "      <td>32281</td>\n",
       "      <td>Kimi no Na wa.</td>\n",
       "      <td>Drama, Romance, School, Supernatural</td>\n",
       "      <td>Movie</td>\n",
       "      <td>1</td>\n",
       "      <td>9.37</td>\n",
       "      <td>200630</td>\n",
       "      <td>152</td>\n",
       "      <td>10</td>\n",
       "    </tr>\n",
       "    <tr>\n",
       "      <th>2</th>\n",
       "      <td>32281</td>\n",
       "      <td>Kimi no Na wa.</td>\n",
       "      <td>Drama, Romance, School, Supernatural</td>\n",
       "      <td>Movie</td>\n",
       "      <td>1</td>\n",
       "      <td>9.37</td>\n",
       "      <td>200630</td>\n",
       "      <td>244</td>\n",
       "      <td>10</td>\n",
       "    </tr>\n",
       "    <tr>\n",
       "      <th>3</th>\n",
       "      <td>32281</td>\n",
       "      <td>Kimi no Na wa.</td>\n",
       "      <td>Drama, Romance, School, Supernatural</td>\n",
       "      <td>Movie</td>\n",
       "      <td>1</td>\n",
       "      <td>9.37</td>\n",
       "      <td>200630</td>\n",
       "      <td>271</td>\n",
       "      <td>10</td>\n",
       "    </tr>\n",
       "    <tr>\n",
       "      <th>4</th>\n",
       "      <td>32281</td>\n",
       "      <td>Kimi no Na wa.</td>\n",
       "      <td>Drama, Romance, School, Supernatural</td>\n",
       "      <td>Movie</td>\n",
       "      <td>1</td>\n",
       "      <td>9.37</td>\n",
       "      <td>200630</td>\n",
       "      <td>278</td>\n",
       "      <td>-1</td>\n",
       "    </tr>\n",
       "  </tbody>\n",
       "</table>\n",
       "</div>"
      ],
      "text/plain": [
       "   anime_id            name                                 genre   type  \\\n",
       "0     32281  Kimi no Na wa.  Drama, Romance, School, Supernatural  Movie   \n",
       "1     32281  Kimi no Na wa.  Drama, Romance, School, Supernatural  Movie   \n",
       "2     32281  Kimi no Na wa.  Drama, Romance, School, Supernatural  Movie   \n",
       "3     32281  Kimi no Na wa.  Drama, Romance, School, Supernatural  Movie   \n",
       "4     32281  Kimi no Na wa.  Drama, Romance, School, Supernatural  Movie   \n",
       "\n",
       "  episodes  rating_x  members  user_id  rating_y  \n",
       "0        1      9.37   200630       99         5  \n",
       "1        1      9.37   200630      152        10  \n",
       "2        1      9.37   200630      244        10  \n",
       "3        1      9.37   200630      271        10  \n",
       "4        1      9.37   200630      278        -1  "
      ]
     },
     "execution_count": 22,
     "metadata": {},
     "output_type": "execute_result"
    }
   ],
   "source": [
    "df = pd.merge(anime,rating, on='anime_id')\n",
    "df.head(5)"
   ]
  },
  {
   "cell_type": "code",
   "execution_count": 23,
   "id": "7017983f",
   "metadata": {
    "scrolled": false
   },
   "outputs": [
    {
     "data": {
      "text/html": [
       "<div>\n",
       "<style scoped>\n",
       "    .dataframe tbody tr th:only-of-type {\n",
       "        vertical-align: middle;\n",
       "    }\n",
       "\n",
       "    .dataframe tbody tr th {\n",
       "        vertical-align: top;\n",
       "    }\n",
       "\n",
       "    .dataframe thead th {\n",
       "        text-align: right;\n",
       "    }\n",
       "</style>\n",
       "<table border=\"1\" class=\"dataframe\">\n",
       "  <thead>\n",
       "    <tr style=\"text-align: right;\">\n",
       "      <th></th>\n",
       "      <th>anime_id</th>\n",
       "      <th>rating_x</th>\n",
       "      <th>members</th>\n",
       "      <th>user_id</th>\n",
       "      <th>rating_y</th>\n",
       "    </tr>\n",
       "  </thead>\n",
       "  <tbody>\n",
       "    <tr>\n",
       "      <th>count</th>\n",
       "      <td>7.813610e+06</td>\n",
       "      <td>7.813610e+06</td>\n",
       "      <td>7.813610e+06</td>\n",
       "      <td>7.813610e+06</td>\n",
       "      <td>7.813610e+06</td>\n",
       "    </tr>\n",
       "    <tr>\n",
       "      <th>mean</th>\n",
       "      <td>8.908728e+03</td>\n",
       "      <td>7.653158e+00</td>\n",
       "      <td>1.786233e+05</td>\n",
       "      <td>3.672799e+04</td>\n",
       "      <td>6.144075e+00</td>\n",
       "    </tr>\n",
       "    <tr>\n",
       "      <th>std</th>\n",
       "      <td>8.883598e+03</td>\n",
       "      <td>6.729753e-01</td>\n",
       "      <td>1.881764e+05</td>\n",
       "      <td>2.099793e+04</td>\n",
       "      <td>3.727792e+00</td>\n",
       "    </tr>\n",
       "    <tr>\n",
       "      <th>min</th>\n",
       "      <td>1.000000e+00</td>\n",
       "      <td>1.670000e+00</td>\n",
       "      <td>2.900000e+01</td>\n",
       "      <td>1.000000e+00</td>\n",
       "      <td>-1.000000e+00</td>\n",
       "    </tr>\n",
       "    <tr>\n",
       "      <th>25%</th>\n",
       "      <td>1.240000e+03</td>\n",
       "      <td>7.270000e+00</td>\n",
       "      <td>4.403000e+04</td>\n",
       "      <td>1.897400e+04</td>\n",
       "      <td>6.000000e+00</td>\n",
       "    </tr>\n",
       "    <tr>\n",
       "      <th>50%</th>\n",
       "      <td>6.213000e+03</td>\n",
       "      <td>7.680000e+00</td>\n",
       "      <td>1.104700e+05</td>\n",
       "      <td>3.679100e+04</td>\n",
       "      <td>7.000000e+00</td>\n",
       "    </tr>\n",
       "    <tr>\n",
       "      <th>75%</th>\n",
       "      <td>1.409300e+04</td>\n",
       "      <td>8.130000e+00</td>\n",
       "      <td>2.442680e+05</td>\n",
       "      <td>5.475800e+04</td>\n",
       "      <td>9.000000e+00</td>\n",
       "    </tr>\n",
       "    <tr>\n",
       "      <th>max</th>\n",
       "      <td>3.451900e+04</td>\n",
       "      <td>9.500000e+00</td>\n",
       "      <td>1.013917e+06</td>\n",
       "      <td>7.351600e+04</td>\n",
       "      <td>1.000000e+01</td>\n",
       "    </tr>\n",
       "  </tbody>\n",
       "</table>\n",
       "</div>"
      ],
      "text/plain": [
       "           anime_id      rating_x       members       user_id      rating_y\n",
       "count  7.813610e+06  7.813610e+06  7.813610e+06  7.813610e+06  7.813610e+06\n",
       "mean   8.908728e+03  7.653158e+00  1.786233e+05  3.672799e+04  6.144075e+00\n",
       "std    8.883598e+03  6.729753e-01  1.881764e+05  2.099793e+04  3.727792e+00\n",
       "min    1.000000e+00  1.670000e+00  2.900000e+01  1.000000e+00 -1.000000e+00\n",
       "25%    1.240000e+03  7.270000e+00  4.403000e+04  1.897400e+04  6.000000e+00\n",
       "50%    6.213000e+03  7.680000e+00  1.104700e+05  3.679100e+04  7.000000e+00\n",
       "75%    1.409300e+04  8.130000e+00  2.442680e+05  5.475800e+04  9.000000e+00\n",
       "max    3.451900e+04  9.500000e+00  1.013917e+06  7.351600e+04  1.000000e+01"
      ]
     },
     "execution_count": 23,
     "metadata": {},
     "output_type": "execute_result"
    }
   ],
   "source": [
    "df.describe()"
   ]
  },
  {
   "cell_type": "markdown",
   "id": "125b934d",
   "metadata": {},
   "source": [
    "Data rating yang akan dipakai adalah `rating_x` karena `rating_y` memiliki data dengan nilai -1. `rating_x` diubah menjadi `user_rating`."
   ]
  },
  {
   "cell_type": "code",
   "execution_count": 24,
   "id": "a5358809",
   "metadata": {},
   "outputs": [],
   "source": [
    "df = df.rename(columns={\"rating_x\": \"user_rating\"})\n",
    "df = df.drop('rating_y', axis=1)"
   ]
  },
  {
   "cell_type": "markdown",
   "id": "c40cf235",
   "metadata": {},
   "source": [
    "## Data Preparation \n",
    "\n",
    "### Handling Missing Value\n",
    "Mengecek nilai Null pada `df`."
   ]
  },
  {
   "cell_type": "code",
   "execution_count": 26,
   "id": "adc6189a",
   "metadata": {
    "scrolled": true
   },
   "outputs": [
    {
     "name": "stdout",
     "output_type": "stream",
     "text": [
      "Nilai null:\n"
     ]
    },
    {
     "data": {
      "text/plain": [
       "anime_id       0\n",
       "name           0\n",
       "genre          0\n",
       "type           0\n",
       "episodes       0\n",
       "user_rating    0\n",
       "members        0\n",
       "user_id        0\n",
       "dtype: int64"
      ]
     },
     "execution_count": 26,
     "metadata": {},
     "output_type": "execute_result"
    }
   ],
   "source": [
    "df = df.copy()\n",
    "df = df.dropna(axis = 0)\n",
    "print(\"Nilai null:\")\n",
    "df.isna().sum()"
   ]
  },
  {
   "cell_type": "markdown",
   "id": "4c945acb",
   "metadata": {},
   "source": [
    "### Cleaning Text\n",
    "Sebuah *Function* untuk:\n",
    "- Mengubah teks menjadi *lowercase*\n",
    "- Menghapus simbol dan *special characters*"
   ]
  },
  {
   "cell_type": "code",
   "execution_count": 28,
   "id": "025ed7c9",
   "metadata": {},
   "outputs": [],
   "source": [
    "import re\n",
    "import string\n",
    "\n",
    "def clean_text(text):\n",
    "    # to lowercase\n",
    "    text = text.lower()\n",
    "\n",
    "    # remove sybmols and other words\n",
    "    text = re.sub(r'<[^>]*>', '', text)\n",
    "    text = re.sub(r'http\\S+', '', text)\n",
    "    text = re.sub(r'&quot;', '', text)\n",
    "    text = re.sub(r'.hack//', '', text)\n",
    "    text = re.sub(r'&#039;', '', text)\n",
    "    text = re.sub(r'A&#039;s', '', text)\n",
    "    text = re.sub(r'I&#039;', 'I\\'', text)\n",
    "    text = re.sub(r'&amp;', 'and', text)\n",
    "  \n",
    "    # remove punctuation\n",
    "    text = text.translate(str.maketrans('', '', string.punctuation))\n",
    "    \n",
    "    return text"
   ]
  },
  {
   "cell_type": "markdown",
   "id": "e179fc28",
   "metadata": {},
   "source": [
    "*Cleaning* pada data `'name'` di *dataset* `df` dan `anime`."
   ]
  },
  {
   "cell_type": "code",
   "execution_count": 29,
   "id": "139a5302",
   "metadata": {},
   "outputs": [
    {
     "name": "stdout",
     "output_type": "stream",
     "text": [
      "Preprocessing df['name']:  81.81658864021301  sec.\n",
      "Preprocessing anime['name']:  0.13961291313171387  sec.\n"
     ]
    }
   ],
   "source": [
    "import time\n",
    "\n",
    "start = time.time()\n",
    "df['name']=df['name'].apply(clean_text)\n",
    "end = time.time()\n",
    "print(\"Preprocessing df['name']: \", end-start, \" sec.\")\n",
    "\n",
    "start = time.time()\n",
    "anime['name'] = anime['name'].apply(clean_text)\n",
    "end = time.time()\n",
    "print(\"Preprocessing anime['name']: \", end-start, \" sec.\")"
   ]
  },
  {
   "cell_type": "markdown",
   "id": "88743ba7",
   "metadata": {},
   "source": [
    "## Modelling\n",
    "### Popularity-based\n",
    "*Function* untuk rekomendasi dengan *popularity-based* melakukan grouping berdasarkan input fitur nanti dengan `groupby()` dan menghitung *mean* dari rating penontonnya.\n",
    "\n",
    "Kemudian hasil tersebut diurutkan dan dan ditampilkan dengan 10 hasil teratas."
   ]
  },
  {
   "cell_type": "code",
   "execution_count": 30,
   "id": "8d7d4150",
   "metadata": {},
   "outputs": [],
   "source": [
    "def popularity_recommender(df, selected_features):\n",
    "\n",
    "    # grouping & menghitung rata-rata rating pengguna\n",
    "    grouped_df = df.groupby(selected_features).agg({'user_rating': 'mean'}).reset_index()\n",
    "    # mengurutkan berdasarkan rating\n",
    "    sorted_df = grouped_df.sort_values('user_rating', ascending=False)\n",
    "    # menampilkan 10 hasil teratas yang diurutkan\n",
    "    recommendations = sorted_df.head(10)\n",
    "    return recommendations"
   ]
  },
  {
   "cell_type": "code",
   "execution_count": 31,
   "id": "bce63a62",
   "metadata": {
    "scrolled": false
   },
   "outputs": [
    {
     "data": {
      "text/plain": [
       "Index(['anime_id', 'name', 'genre', 'type', 'episodes', 'user_rating',\n",
       "       'members', 'user_id'],\n",
       "      dtype='object')"
      ]
     },
     "execution_count": 31,
     "metadata": {},
     "output_type": "execute_result"
    }
   ],
   "source": [
    "df.columns"
   ]
  },
  {
   "cell_type": "markdown",
   "id": "72e6384d",
   "metadata": {},
   "source": [
    "Rating berdasarkan judul anime:"
   ]
  },
  {
   "cell_type": "code",
   "execution_count": 32,
   "id": "9c401adf",
   "metadata": {},
   "outputs": [
    {
     "data": {
      "text/html": [
       "<div>\n",
       "<style scoped>\n",
       "    .dataframe tbody tr th:only-of-type {\n",
       "        vertical-align: middle;\n",
       "    }\n",
       "\n",
       "    .dataframe tbody tr th {\n",
       "        vertical-align: top;\n",
       "    }\n",
       "\n",
       "    .dataframe thead th {\n",
       "        text-align: right;\n",
       "    }\n",
       "</style>\n",
       "<table border=\"1\" class=\"dataframe\">\n",
       "  <thead>\n",
       "    <tr style=\"text-align: right;\">\n",
       "      <th></th>\n",
       "      <th>name</th>\n",
       "      <th>user_rating</th>\n",
       "    </tr>\n",
       "  </thead>\n",
       "  <tbody>\n",
       "    <tr>\n",
       "      <th>6469</th>\n",
       "      <td>mogura no motoro</td>\n",
       "      <td>9.50</td>\n",
       "    </tr>\n",
       "    <tr>\n",
       "      <th>4919</th>\n",
       "      <td>kimi no na wa</td>\n",
       "      <td>9.37</td>\n",
       "    </tr>\n",
       "    <tr>\n",
       "      <th>2582</th>\n",
       "      <td>fullmetal alchemist brotherhood</td>\n",
       "      <td>9.26</td>\n",
       "    </tr>\n",
       "    <tr>\n",
       "      <th>3033</th>\n",
       "      <td>gintama°</td>\n",
       "      <td>9.25</td>\n",
       "    </tr>\n",
       "    <tr>\n",
       "      <th>10764</th>\n",
       "      <td>yakusoku africa mizu to midori</td>\n",
       "      <td>9.25</td>\n",
       "    </tr>\n",
       "    <tr>\n",
       "      <th>9318</th>\n",
       "      <td>steinsgate</td>\n",
       "      <td>9.17</td>\n",
       "    </tr>\n",
       "    <tr>\n",
       "      <th>3292</th>\n",
       "      <td>haikyuu karasuno koukou vs shiratorizawa gakue...</td>\n",
       "      <td>9.15</td>\n",
       "    </tr>\n",
       "    <tr>\n",
       "      <th>3919</th>\n",
       "      <td>hunter x hunter 2011</td>\n",
       "      <td>9.13</td>\n",
       "    </tr>\n",
       "    <tr>\n",
       "      <th>2972</th>\n",
       "      <td>ginga eiyuu densetsu</td>\n",
       "      <td>9.11</td>\n",
       "    </tr>\n",
       "    <tr>\n",
       "      <th>3023</th>\n",
       "      <td>gintama enchousen</td>\n",
       "      <td>9.11</td>\n",
       "    </tr>\n",
       "  </tbody>\n",
       "</table>\n",
       "</div>"
      ],
      "text/plain": [
       "                                                    name  user_rating\n",
       "6469                                    mogura no motoro         9.50\n",
       "4919                                       kimi no na wa         9.37\n",
       "2582                     fullmetal alchemist brotherhood         9.26\n",
       "3033                                            gintama°         9.25\n",
       "10764                     yakusoku africa mizu to midori         9.25\n",
       "9318                                          steinsgate         9.17\n",
       "3292   haikyuu karasuno koukou vs shiratorizawa gakue...         9.15\n",
       "3919                                hunter x hunter 2011         9.13\n",
       "2972                                ginga eiyuu densetsu         9.11\n",
       "3023                                   gintama enchousen         9.11"
      ]
     },
     "execution_count": 32,
     "metadata": {},
     "output_type": "execute_result"
    }
   ],
   "source": [
    "# berdasarkan judul\n",
    "selected_features = ['name']\n",
    "popularity_recommender(df, selected_features)"
   ]
  },
  {
   "cell_type": "markdown",
   "id": "53d370e5",
   "metadata": {},
   "source": [
    "Rating berdasarkan 10 judul dengan penonton terbanyak:"
   ]
  },
  {
   "cell_type": "code",
   "execution_count": 33,
   "id": "ec12e6a0",
   "metadata": {},
   "outputs": [
    {
     "data": {
      "text/html": [
       "<div>\n",
       "<style scoped>\n",
       "    .dataframe tbody tr th:only-of-type {\n",
       "        vertical-align: middle;\n",
       "    }\n",
       "\n",
       "    .dataframe tbody tr th {\n",
       "        vertical-align: top;\n",
       "    }\n",
       "\n",
       "    .dataframe thead th {\n",
       "        text-align: right;\n",
       "    }\n",
       "</style>\n",
       "<table border=\"1\" class=\"dataframe\">\n",
       "  <thead>\n",
       "    <tr style=\"text-align: right;\">\n",
       "      <th></th>\n",
       "      <th>members</th>\n",
       "      <th>user_rating</th>\n",
       "    </tr>\n",
       "  </thead>\n",
       "  <tbody>\n",
       "    <tr>\n",
       "      <th>6268</th>\n",
       "      <td>200630</td>\n",
       "      <td>9.37</td>\n",
       "    </tr>\n",
       "    <tr>\n",
       "      <th>6479</th>\n",
       "      <td>793665</td>\n",
       "      <td>9.26</td>\n",
       "    </tr>\n",
       "    <tr>\n",
       "      <th>6016</th>\n",
       "      <td>114262</td>\n",
       "      <td>9.25</td>\n",
       "    </tr>\n",
       "    <tr>\n",
       "      <th>6475</th>\n",
       "      <td>673572</td>\n",
       "      <td>9.17</td>\n",
       "    </tr>\n",
       "    <tr>\n",
       "      <th>6152</th>\n",
       "      <td>151266</td>\n",
       "      <td>9.16</td>\n",
       "    </tr>\n",
       "    <tr>\n",
       "      <th>5879</th>\n",
       "      <td>93351</td>\n",
       "      <td>9.15</td>\n",
       "    </tr>\n",
       "    <tr>\n",
       "      <th>6440</th>\n",
       "      <td>425855</td>\n",
       "      <td>9.13</td>\n",
       "    </tr>\n",
       "    <tr>\n",
       "      <th>5760</th>\n",
       "      <td>80679</td>\n",
       "      <td>9.11</td>\n",
       "    </tr>\n",
       "    <tr>\n",
       "      <th>5768</th>\n",
       "      <td>81109</td>\n",
       "      <td>9.11</td>\n",
       "    </tr>\n",
       "    <tr>\n",
       "      <th>5680</th>\n",
       "      <td>72534</td>\n",
       "      <td>9.10</td>\n",
       "    </tr>\n",
       "  </tbody>\n",
       "</table>\n",
       "</div>"
      ],
      "text/plain": [
       "      members  user_rating\n",
       "6268   200630         9.37\n",
       "6479   793665         9.26\n",
       "6016   114262         9.25\n",
       "6475   673572         9.17\n",
       "6152   151266         9.16\n",
       "5879    93351         9.15\n",
       "6440   425855         9.13\n",
       "5760    80679         9.11\n",
       "5768    81109         9.11\n",
       "5680    72534         9.10"
      ]
     },
     "execution_count": 33,
     "metadata": {},
     "output_type": "execute_result"
    }
   ],
   "source": [
    "# berdasarkan 10 judul terpopuler\n",
    "selected_features = ['members']\n",
    "popularity_recommender(df, selected_features)"
   ]
  },
  {
   "cell_type": "markdown",
   "id": "7c392785",
   "metadata": {},
   "source": [
    "Rating berdasarkan genre terpopuler. Genre yang dipakai hanya genre urutan pertama / *first genre*."
   ]
  },
  {
   "cell_type": "code",
   "execution_count": 34,
   "id": "8cdff521",
   "metadata": {},
   "outputs": [
    {
     "data": {
      "text/html": [
       "<div>\n",
       "<style scoped>\n",
       "    .dataframe tbody tr th:only-of-type {\n",
       "        vertical-align: middle;\n",
       "    }\n",
       "\n",
       "    .dataframe tbody tr th {\n",
       "        vertical-align: top;\n",
       "    }\n",
       "\n",
       "    .dataframe thead th {\n",
       "        text-align: right;\n",
       "    }\n",
       "</style>\n",
       "<table border=\"1\" class=\"dataframe\">\n",
       "  <thead>\n",
       "    <tr style=\"text-align: right;\">\n",
       "      <th></th>\n",
       "      <th>first_genre</th>\n",
       "      <th>user_rating</th>\n",
       "    </tr>\n",
       "  </thead>\n",
       "  <tbody>\n",
       "    <tr>\n",
       "      <th>14</th>\n",
       "      <td>Josei</td>\n",
       "      <td>8.463213</td>\n",
       "    </tr>\n",
       "    <tr>\n",
       "      <th>28</th>\n",
       "      <td>Sci-Fi</td>\n",
       "      <td>8.352921</td>\n",
       "    </tr>\n",
       "    <tr>\n",
       "      <th>24</th>\n",
       "      <td>Psychological</td>\n",
       "      <td>8.210347</td>\n",
       "    </tr>\n",
       "    <tr>\n",
       "      <th>21</th>\n",
       "      <td>Mystery</td>\n",
       "      <td>8.199439</td>\n",
       "    </tr>\n",
       "    <tr>\n",
       "      <th>4</th>\n",
       "      <td>Dementia</td>\n",
       "      <td>7.831614</td>\n",
       "    </tr>\n",
       "    <tr>\n",
       "      <th>6</th>\n",
       "      <td>Drama</td>\n",
       "      <td>7.791295</td>\n",
       "    </tr>\n",
       "    <tr>\n",
       "      <th>9</th>\n",
       "      <td>Game</td>\n",
       "      <td>7.741392</td>\n",
       "    </tr>\n",
       "    <tr>\n",
       "      <th>0</th>\n",
       "      <td>Action</td>\n",
       "      <td>7.715880</td>\n",
       "    </tr>\n",
       "    <tr>\n",
       "      <th>1</th>\n",
       "      <td>Adventure</td>\n",
       "      <td>7.676925</td>\n",
       "    </tr>\n",
       "    <tr>\n",
       "      <th>2</th>\n",
       "      <td>Cars</td>\n",
       "      <td>7.661395</td>\n",
       "    </tr>\n",
       "  </tbody>\n",
       "</table>\n",
       "</div>"
      ],
      "text/plain": [
       "      first_genre  user_rating\n",
       "14          Josei     8.463213\n",
       "28         Sci-Fi     8.352921\n",
       "24  Psychological     8.210347\n",
       "21        Mystery     8.199439\n",
       "4        Dementia     7.831614\n",
       "6           Drama     7.791295\n",
       "9            Game     7.741392\n",
       "0          Action     7.715880\n",
       "1       Adventure     7.676925\n",
       "2            Cars     7.661395"
      ]
     },
     "execution_count": 34,
     "metadata": {},
     "output_type": "execute_result"
    }
   ],
   "source": [
    "# membuat kolom first genre\n",
    "df['first_genre'] = df['genre'].apply(lambda x: x.split(',')[0].strip() if ',' in x else x)\n",
    "\n",
    "# rekom berdasarkan first genre\n",
    "selected_features = ['first_genre']\n",
    "popularity_recommender(df, selected_features)"
   ]
  },
  {
   "cell_type": "markdown",
   "id": "d6ed247e",
   "metadata": {},
   "source": [
    "Rating berdasarkan jenis / tipe anime:"
   ]
  },
  {
   "cell_type": "code",
   "execution_count": 35,
   "id": "b12005e9",
   "metadata": {},
   "outputs": [
    {
     "data": {
      "text/html": [
       "<div>\n",
       "<style scoped>\n",
       "    .dataframe tbody tr th:only-of-type {\n",
       "        vertical-align: middle;\n",
       "    }\n",
       "\n",
       "    .dataframe tbody tr th {\n",
       "        vertical-align: top;\n",
       "    }\n",
       "\n",
       "    .dataframe thead th {\n",
       "        text-align: right;\n",
       "    }\n",
       "</style>\n",
       "<table border=\"1\" class=\"dataframe\">\n",
       "  <thead>\n",
       "    <tr style=\"text-align: right;\">\n",
       "      <th></th>\n",
       "      <th>type</th>\n",
       "      <th>user_rating</th>\n",
       "    </tr>\n",
       "  </thead>\n",
       "  <tbody>\n",
       "    <tr>\n",
       "      <th>0</th>\n",
       "      <td>Movie</td>\n",
       "      <td>7.809518</td>\n",
       "    </tr>\n",
       "    <tr>\n",
       "      <th>5</th>\n",
       "      <td>TV</td>\n",
       "      <td>7.738967</td>\n",
       "    </tr>\n",
       "    <tr>\n",
       "      <th>4</th>\n",
       "      <td>Special</td>\n",
       "      <td>7.330543</td>\n",
       "    </tr>\n",
       "    <tr>\n",
       "      <th>3</th>\n",
       "      <td>OVA</td>\n",
       "      <td>7.196094</td>\n",
       "    </tr>\n",
       "    <tr>\n",
       "      <th>2</th>\n",
       "      <td>ONA</td>\n",
       "      <td>7.053085</td>\n",
       "    </tr>\n",
       "    <tr>\n",
       "      <th>1</th>\n",
       "      <td>Music</td>\n",
       "      <td>7.032784</td>\n",
       "    </tr>\n",
       "  </tbody>\n",
       "</table>\n",
       "</div>"
      ],
      "text/plain": [
       "      type  user_rating\n",
       "0    Movie     7.809518\n",
       "5       TV     7.738967\n",
       "4  Special     7.330543\n",
       "3      OVA     7.196094\n",
       "2      ONA     7.053085\n",
       "1    Music     7.032784"
      ]
     },
     "execution_count": 35,
     "metadata": {},
     "output_type": "execute_result"
    }
   ],
   "source": [
    "#berdasarkan tipe\n",
    "selected_features = ['type']\n",
    "popularity_recommender(df, selected_features)"
   ]
  },
  {
   "cell_type": "markdown",
   "id": "50392f00",
   "metadata": {},
   "source": [
    "### Title-based Recommender\n",
    "- **a. Clustering + Collaborative Filtering**\n",
    "- **b. Clustering + Content-based Filtering**\n",
    "\n",
    "Terdapat dua pendekatan pada sistem rekomendasi berdasarkan judul yang sedang ditonton. Masing-masing pendekatan akan menggunakan klasterisasi dahulu.\n",
    "\n",
    "#### 1. Clustering (K-Means)\n",
    "\n",
    "- *Label encoding* pada data 'genre' dan 'type' di `df`.\n",
    "- Model K-Means dengan parameter:\n",
    "    - n_clusters: 6\n",
    "    - random_state: 42\n",
    "- Kemudian *fit* model pada data 'anime_id', 't_genre', 't_type', dan 'user_rating' di `df`."
   ]
  },
  {
   "cell_type": "code",
   "execution_count": 41,
   "id": "7107bf9b",
   "metadata": {},
   "outputs": [
    {
     "name": "stdout",
     "output_type": "stream",
     "text": [
      "Label encoding : 2.8743717670440674  sec.\n"
     ]
    },
    {
     "name": "stderr",
     "output_type": "stream",
     "text": [
      "C:\\Users\\User\\anaconda3\\lib\\site-packages\\sklearn\\cluster\\_kmeans.py:870: FutureWarning: The default value of `n_init` will change from 10 to 'auto' in 1.4. Set the value of `n_init` explicitly to suppress the warning\n",
      "  warnings.warn(\n"
     ]
    },
    {
     "name": "stdout",
     "output_type": "stream",
     "text": [
      "K-Means fit: 45.05245590209961  sec.\n"
     ]
    }
   ],
   "source": [
    "from sklearn.cluster import KMeans\n",
    "from sklearn.preprocessing import LabelEncoder\n",
    "\n",
    "#encoding\n",
    "le = LabelEncoder()\n",
    "\n",
    "start = time.time()\n",
    "df['t_genre']= le.fit_transform(df['genre'])\n",
    "df['t_type']= le.fit_transform(df['type'])\n",
    "end = time.time()\n",
    "print(\"Label encoding :\", end-start, \" sec.\")\n",
    "\n",
    "selected_features = ['anime_id','t_genre','t_type', 'user_rating']\n",
    " \n",
    "# k-means model\n",
    "kmeans = KMeans(n_clusters=6, random_state=42)\n",
    "\n",
    "start = time.time()\n",
    "df['cluster'] = kmeans.fit_predict(df[selected_features])\n",
    "end = time.time()\n",
    "print(\"K-Means fit:\", end-start, \" sec.\")"
   ]
  },
  {
   "cell_type": "code",
   "execution_count": 42,
   "id": "28932bbf",
   "metadata": {},
   "outputs": [
    {
     "name": "stdout",
     "output_type": "stream",
     "text": [
      "Klaster 3: 520020 elemen\n",
      "Klaster 0: 1437374 elemen\n",
      "Klaster 2: 1353337 elemen\n",
      "Klaster 4: 2952323 elemen\n",
      "Klaster 5: 844242 elemen\n",
      "Klaster 1: 706314 elemen\n"
     ]
    }
   ],
   "source": [
    "from collections import Counter\n",
    "\n",
    "labels = kmeans.labels_\n",
    "\n",
    "# hitung elemen pada tiap klaster\n",
    "cluster_counts = Counter(labels)\n",
    "\n",
    "for cluster_id, count in cluster_counts.items():\n",
    "    print(f\"Klaster {cluster_id}: {count} elemen\")"
   ]
  },
  {
   "cell_type": "markdown",
   "id": "ec769466",
   "metadata": {},
   "source": [
    "#### 2. Set random user & anime title to recommend\n",
    "\n",
    "Memilih pengguna dan 1 judul anime yang telah ditonton pengguna tersebut secara random untuk diberikan rekomendaasi anime yang mirip. \n",
    "\n",
    "- Memilih klaster random dan user di dalam klaster tersebut secara random dengan `randint()` pada `const_cluster_no`\n",
    "- Membuat pivot table berdasarkan klaster terpilih dengan nilai rating dengan `pivot_table()`\n",
    "- Memilih judul anime yang bakal diberikan rekomendasi secara random pada `query_no`"
   ]
  },
  {
   "cell_type": "code",
   "execution_count": 44,
   "id": "ee00bc1e",
   "metadata": {},
   "outputs": [],
   "source": [
    "import random\n",
    "\n",
    "# memilih klaster random dan user di dalam klaster tersebut secara random\n",
    "const_member_index = random.randint(1, len(df))\n",
    "const_cluster_no = df.cluster[const_member_index]\n",
    "const_cluster_no\n",
    "\n",
    "user_no = df.user_id[const_member_index]\n",
    "\n",
    "# membuat pivot table berdasarkan klaster terpilih dengan nilai rating\n",
    "df_pivot = df[df.cluster == const_cluster_no].pivot_table(index=\"name\", columns=\"user_id\", values=\"user_rating\").fillna(0)\n"
   ]
  },
  {
   "cell_type": "code",
   "execution_count": 49,
   "id": "32eff2cf",
   "metadata": {
    "scrolled": true
   },
   "outputs": [
    {
     "name": "stdout",
     "output_type": "stream",
     "text": [
      "Judul anime terpilih untuk diberikan rekomendasi:\n",
      "Kueri: 2810\n",
      "Judul: yoroiden samurai troopers kikoutei densetsu \n"
     ]
    }
   ],
   "source": [
    "# memilih judul anime yang bakal diberikan rekomendasi secara random\n",
    "query_no = np.random.choice(df_pivot.shape[0]) \n",
    "print(f\"Judul anime terpilih untuk diberikan rekomendasi:\\nKueri: {query_no}\\nJudul: {df_pivot.index[query_no]} \")\n",
    "anime_const = df_pivot.index[query_no]"
   ]
  },
  {
   "cell_type": "markdown",
   "id": "2cab8e03",
   "metadata": {},
   "source": [
    "#### A. Collaborative Filtering (KNN)\n",
    "- Membuat Matriks *Compressed Sparse Row* (CSR) pada `df_pivot` dengan scipy `csr_matrix`\n",
    "- Membuat model dengan scikit learn `NearestNeighbors()` yang memiliki parameter:\n",
    "    - metric: \"cosine\"\n",
    "    - algorithm: \"auto\"\n",
    "- Kemudian *fit* `df_matrix()` tadi dalam model KNN\n",
    "- Jarak dan indeks tiap anime didefinisikan dengan `model_knn.kneighbors()`\n",
    "\n",
    "Kemudian untuk membuat rekomendasinya:\n",
    "- Isi list `no`, `name`, `distance`, `rating`, dan `genre` berdasarkan data jarak dan indeks, di mana untuk `rating` dan `genre` menggunakan `flatten()`"
   ]
  },
  {
   "cell_type": "code",
   "execution_count": 52,
   "id": "62c19acc",
   "metadata": {
    "scrolled": true
   },
   "outputs": [
    {
     "name": "stdout",
     "output_type": "stream",
     "text": [
      "Recommendations for 'yoroiden samurai troopers kikoutei densetsu' viewers :\n",
      "\n",
      "Collaborative filtering : 6.410833358764648  sec.\n"
     ]
    },
    {
     "data": {
      "text/html": [
       "<div>\n",
       "<style scoped>\n",
       "    .dataframe tbody tr th:only-of-type {\n",
       "        vertical-align: middle;\n",
       "    }\n",
       "\n",
       "    .dataframe tbody tr th {\n",
       "        vertical-align: top;\n",
       "    }\n",
       "\n",
       "    .dataframe thead th {\n",
       "        text-align: right;\n",
       "    }\n",
       "</style>\n",
       "<table border=\"1\" class=\"dataframe\">\n",
       "  <thead>\n",
       "    <tr style=\"text-align: right;\">\n",
       "      <th></th>\n",
       "      <th>Anime Name</th>\n",
       "      <th>Rating</th>\n",
       "      <th>Genre</th>\n",
       "      <th>Similarity</th>\n",
       "    </tr>\n",
       "    <tr>\n",
       "      <th>No</th>\n",
       "      <th></th>\n",
       "      <th></th>\n",
       "      <th></th>\n",
       "      <th></th>\n",
       "    </tr>\n",
       "  </thead>\n",
       "  <tbody>\n",
       "    <tr>\n",
       "      <th>1</th>\n",
       "      <td>yoroiden samurai troopers gaiden</td>\n",
       "      <td>6.86</td>\n",
       "      <td>Adventure, Fantasy, Samurai, Shounen</td>\n",
       "      <td>0.860990</td>\n",
       "    </tr>\n",
       "    <tr>\n",
       "      <th>2</th>\n",
       "      <td>yoroiden samurai troopers message</td>\n",
       "      <td>6.13</td>\n",
       "      <td>Adventure, Fantasy, Samurai, Shounen</td>\n",
       "      <td>0.859938</td>\n",
       "    </tr>\n",
       "    <tr>\n",
       "      <th>3</th>\n",
       "      <td>yoroiden samurai troopers</td>\n",
       "      <td>7.21</td>\n",
       "      <td>Adventure, Samurai, Sci-Fi, Shounen</td>\n",
       "      <td>0.858342</td>\n",
       "    </tr>\n",
       "    <tr>\n",
       "      <th>4</th>\n",
       "      <td>doramichan minidora sos</td>\n",
       "      <td>6.49</td>\n",
       "      <td>Fantasy, Kids</td>\n",
       "      <td>0.853984</td>\n",
       "    </tr>\n",
       "    <tr>\n",
       "      <th>5</th>\n",
       "      <td>doramichan a blue straw hat</td>\n",
       "      <td>5.28</td>\n",
       "      <td>Fantasy, Kids</td>\n",
       "      <td>0.852685</td>\n",
       "    </tr>\n",
       "  </tbody>\n",
       "</table>\n",
       "</div>"
      ],
      "text/plain": [
       "                           Anime Name  Rating  \\\n",
       "No                                              \n",
       "1    yoroiden samurai troopers gaiden    6.86   \n",
       "2   yoroiden samurai troopers message    6.13   \n",
       "3           yoroiden samurai troopers    7.21   \n",
       "4             doramichan minidora sos    6.49   \n",
       "5         doramichan a blue straw hat    5.28   \n",
       "\n",
       "                                   Genre  Similarity  \n",
       "No                                                    \n",
       "1   Adventure, Fantasy, Samurai, Shounen    0.860990  \n",
       "2   Adventure, Fantasy, Samurai, Shounen    0.859938  \n",
       "3    Adventure, Samurai, Sci-Fi, Shounen    0.858342  \n",
       "4                          Fantasy, Kids    0.853984  \n",
       "5                          Fantasy, Kids    0.852685  "
      ]
     },
     "execution_count": 52,
     "metadata": {},
     "output_type": "execute_result"
    }
   ],
   "source": [
    "from scipy.sparse import csr_matrix\n",
    "from sklearn.neighbors import NearestNeighbors\n",
    "\n",
    "# KNN\n",
    "start = time.time()\n",
    "df_matrix = csr_matrix(df_pivot.values)\n",
    "model_knn = NearestNeighbors(metric=\"cosine\", algorithm=\"auto\")\n",
    "model_knn.fit(df_matrix)\n",
    "\n",
    "distances, indices = model_knn.kneighbors(df_pivot.iloc[query_no, :].values.reshape(1, -1), n_neighbors=11)\n",
    "\n",
    "no = []\n",
    "name = []\n",
    "distance = []\n",
    "rating = []\n",
    "genre = []\n",
    "\n",
    "# rekomendasi\n",
    "for i in range(0, len(distances.flatten())):\n",
    "    if i == 0:\n",
    "        print(f\"Recommendations for '{df_pivot.index[query_no]}' viewers :\\n\")\n",
    "    else:\n",
    "        no.append(i)\n",
    "        name.append(df_pivot.index[indices.flatten()[i]])\n",
    "        distance.append(distances.flatten()[i])\n",
    "        rating.append(*anime[anime[\"name\"] == df_pivot.index[indices.flatten()[i]]][\"rating\"].values)\n",
    "        genre.append(*anime[anime[\"name\"] == df_pivot.index[indices.flatten()[i]]][\"genre\"].values)\n",
    "\n",
    "        \n",
    "dic = {\"No\": no, \"Anime Name\": name, \"Rating\": rating, \"Genre\": genre, \"Similarity\": distance[::-1]}\n",
    "recommendation = pd.DataFrame(data=dic)\n",
    "recommendation.set_index(\"No\", inplace=True)\n",
    "end = time.time()\n",
    "print(\"Collaborative filtering :\", end-start, \" sec.\")\n",
    "recommendation.head(5)\n"
   ]
  },
  {
   "cell_type": "markdown",
   "id": "4644a39c",
   "metadata": {},
   "source": [
    "#### Content-based Filtering (TF-IDF)\n",
    "\n",
    "- Melihat nilai pada fitur penting tiap anime dengan TF-IDF `TfidfVectorizer()` dengan parameter `analyzer`: \"word\"\n",
    "- Ambil data klaster tadi yang telah dipilih acak untuk dijadikan data rekomendasi `rec_data`\n",
    "- fitur penting TF-IDF adalah genre\n",
    "- *Fit* data genre tadi menjadi matriks \n",
    "- Menghitung kemiripan juga dengan *cosine similarity*\n",
    "- Kemudian *drop* duplikasi data pada data indeks dengan `pd.Series()` & `drop_duplicates()`\n",
    "\n",
    "Untuk membuat rekomendasinya:\n",
    "\n",
    "Urutkan nilai TF-IDF (`cos_sim`) seluruh anime dengan `sorted()` berdasarkan jarak kemiripian fitur tertinggi dalam list `cos_scores` dengan judul anime yang akan diberikan rekomendasi"
   ]
  },
  {
   "cell_type": "code",
   "execution_count": 58,
   "id": "96288298",
   "metadata": {},
   "outputs": [
    {
     "name": "stdout",
     "output_type": "stream",
     "text": [
      "Content-based filtering : 1.1220507621765137  sec.\n",
      "Recommendations for 'yoroiden samurai troopers kikoutei densetsu' viewers :\n",
      "\n"
     ]
    },
    {
     "data": {
      "text/html": [
       "<div>\n",
       "<style scoped>\n",
       "    .dataframe tbody tr th:only-of-type {\n",
       "        vertical-align: middle;\n",
       "    }\n",
       "\n",
       "    .dataframe tbody tr th {\n",
       "        vertical-align: top;\n",
       "    }\n",
       "\n",
       "    .dataframe thead th {\n",
       "        text-align: right;\n",
       "    }\n",
       "</style>\n",
       "<table border=\"1\" class=\"dataframe\">\n",
       "  <thead>\n",
       "    <tr style=\"text-align: right;\">\n",
       "      <th></th>\n",
       "      <th>Anime Name</th>\n",
       "      <th>Rating</th>\n",
       "      <th>Genre</th>\n",
       "      <th>Similarity Score</th>\n",
       "    </tr>\n",
       "    <tr>\n",
       "      <th>No</th>\n",
       "      <th></th>\n",
       "      <th></th>\n",
       "      <th></th>\n",
       "      <th></th>\n",
       "    </tr>\n",
       "  </thead>\n",
       "  <tbody>\n",
       "    <tr>\n",
       "      <th>1</th>\n",
       "      <td>mujin wakusei survive</td>\n",
       "      <td>7.72</td>\n",
       "      <td>Action, Adventure, Fantasy, Sci-Fi, Slice of Life</td>\n",
       "      <td>0.782989</td>\n",
       "    </tr>\n",
       "    <tr>\n",
       "      <th>2</th>\n",
       "      <td>kamichu</td>\n",
       "      <td>7.51</td>\n",
       "      <td>Comedy, Drama, Slice of Life, Supernatural</td>\n",
       "      <td>0.701465</td>\n",
       "    </tr>\n",
       "    <tr>\n",
       "      <th>3</th>\n",
       "      <td>detective conan ova 08 high school girl detect...</td>\n",
       "      <td>7.30</td>\n",
       "      <td>Comedy, Mystery, Police, Shounen</td>\n",
       "      <td>0.647034</td>\n",
       "    </tr>\n",
       "    <tr>\n",
       "      <th>4</th>\n",
       "      <td>flcl</td>\n",
       "      <td>8.06</td>\n",
       "      <td>Action, Comedy, Dementia, Mecha, Parody, Sci-Fi</td>\n",
       "      <td>0.403561</td>\n",
       "    </tr>\n",
       "    <tr>\n",
       "      <th>5</th>\n",
       "      <td>ginga densetsu weed</td>\n",
       "      <td>7.31</td>\n",
       "      <td>Adventure, Drama, Shounen</td>\n",
       "      <td>0.344954</td>\n",
       "    </tr>\n",
       "  </tbody>\n",
       "</table>\n",
       "</div>"
      ],
      "text/plain": [
       "                                           Anime Name  Rating  \\\n",
       "No                                                              \n",
       "1                               mujin wakusei survive    7.72   \n",
       "2                                             kamichu    7.51   \n",
       "3   detective conan ova 08 high school girl detect...    7.30   \n",
       "4                                                flcl    8.06   \n",
       "5                                 ginga densetsu weed    7.31   \n",
       "\n",
       "                                                Genre  Similarity Score  \n",
       "No                                                                       \n",
       "1   Action, Adventure, Fantasy, Sci-Fi, Slice of Life          0.782989  \n",
       "2          Comedy, Drama, Slice of Life, Supernatural          0.701465  \n",
       "3                    Comedy, Mystery, Police, Shounen          0.647034  \n",
       "4     Action, Comedy, Dementia, Mecha, Parody, Sci-Fi          0.403561  \n",
       "5                           Adventure, Drama, Shounen          0.344954  "
      ]
     },
     "execution_count": 58,
     "metadata": {},
     "output_type": "execute_result"
    }
   ],
   "source": [
    "from sklearn.feature_extraction.text import TfidfVectorizer\n",
    "from sklearn.metrics.pairwise import cosine_similarity\n",
    "\n",
    "start = time.time()\n",
    "# TF-IDF\n",
    "tfv = TfidfVectorizer(analyzer=\"word\")\n",
    "\n",
    "# ambil data klaster yang terpilih\n",
    "rec_data = df[df.cluster == const_cluster_no].copy()\n",
    "rec_data.drop_duplicates(subset =\"name\", keep = \"first\", inplace = True)\n",
    "rec_data.reset_index(drop = True, inplace = True)\n",
    "\n",
    "# jadikan genre sebagai fitur tf-idf\n",
    "genres = rec_data[\"name\"].str.split(\", | , | ,\").astype(str)\n",
    "\n",
    "# matriks tf-idf\n",
    "tfv_matrix = tfv.fit_transform(genres)\n",
    " \n",
    "# hitung kemiripan\n",
    "cos_sim = cosine_similarity(tfv_matrix, tfv_matrix)\n",
    "\n",
    "# drop duplikasi\n",
    "rec_indices = pd.Series(rec_data.index, index = rec_data[\"name\"]).drop_duplicates()\n",
    "\n",
    "# function rekomendasi\n",
    "def give_recommendation(title, cos_sim=cos_sim):\n",
    "    idx = rec_indices[title]\n",
    "    cos_scores = list(enumerate(cos_sim[idx]))\n",
    "    cos_scores = sorted(cos_scores, key=lambda x: x[1], reverse=True)\n",
    "    cos_scores = cos_scores[1:11]\n",
    "    anime_indices = [i[0] for i in cos_scores]\n",
    "    \n",
    "    # isi data\n",
    "    sim_scores = [i[1] for i in cos_scores]\n",
    "    rec_dic = {\n",
    "        \"No\": range(1, 11),\n",
    "        \"Anime Name\": anime[\"name\"].iloc[anime_indices].values,\n",
    "        \"Rating\": anime[\"rating\"].iloc[anime_indices].values,\n",
    "        \"Genre\": anime[\"genre\"].iloc[anime_indices].values,\n",
    "        \"Similarity Score\": sim_scores,\n",
    "    }\n",
    "    dataframe = pd.DataFrame(data=rec_dic)\n",
    "    dataframe.set_index(\"No\", inplace=True)\n",
    "\n",
    "    print(f\"Recommendations for '{title}' viewers :\\n\")\n",
    "\n",
    "    return dataframe\n",
    "\n",
    "end = time.time()\n",
    "print(\"Content-based filtering :\", end-start, \" sec.\")\n",
    "\n",
    "give_recommendation(anime_const).head()\n"
   ]
  },
  {
   "cell_type": "code",
   "execution_count": null,
   "id": "1c6cfcf3",
   "metadata": {},
   "outputs": [],
   "source": []
  }
 ],
 "metadata": {
  "kernelspec": {
   "display_name": "Python 3 (ipykernel)",
   "language": "python",
   "name": "python3"
  },
  "language_info": {
   "codemirror_mode": {
    "name": "ipython",
    "version": 3
   },
   "file_extension": ".py",
   "mimetype": "text/x-python",
   "name": "python",
   "nbconvert_exporter": "python",
   "pygments_lexer": "ipython3",
   "version": "3.9.7"
  }
 },
 "nbformat": 4,
 "nbformat_minor": 5
}
